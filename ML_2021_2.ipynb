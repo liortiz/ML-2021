{
  "nbformat": 4,
  "nbformat_minor": 0,
  "metadata": {
    "colab": {
      "name": "ML 2021-2.ipynb",
      "provenance": [],
      "authorship_tag": "ABX9TyPn4NBTShExZ46/6FNbQb6x",
      "include_colab_link": true
    },
    "kernelspec": {
      "name": "python3",
      "display_name": "Python 3"
    },
    "language_info": {
      "name": "python"
    }
  },
  "cells": [
    {
      "cell_type": "markdown",
      "metadata": {
        "id": "view-in-github",
        "colab_type": "text"
      },
      "source": [
        "<a href=\"https://colab.research.google.com/github/liortiz/ML-2021/blob/main/ML_2021_2.ipynb\" target=\"_parent\"><img src=\"https://colab.research.google.com/assets/colab-badge.svg\" alt=\"Open In Colab\"/></a>"
      ]
    },
    {
      "cell_type": "markdown",
      "metadata": {
        "id": "jPTmuve7BTtj"
      },
      "source": [
        "\n",
        "<h3><center>Introducción al Aprendizaje de Máquina</center>\n",
        "<center>2021-I</center>\n",
        "<center>Lizeth Catherine Ortiz Pulido</center>\n",
        "<center>liortiz@unal.edu.co</center></h3>"
      ]
    },
    {
      "cell_type": "code",
      "metadata": {
        "id": "_FXA8e_dqS1z"
      },
      "source": [
        "import random\n",
        "import numpy as np\n",
        "import matplotlib.pyplot as plt"
      ],
      "execution_count": 1,
      "outputs": []
    },
    {
      "cell_type": "markdown",
      "metadata": {
        "id": "LWcqkqftCjha"
      },
      "source": [
        "# Ejercicio 1\n",
        "Learning from data, Exercice 1.12\n",
        "\n",
        "Una amiga se le acerca con un problema de aprendizaje. Ella dice que la función objetivo $f$ es completamente desconocida, pero tiene 4,000 puntos de datos.  Ella está dispuesta a pagarte para que resuelvas su problema y le produzca una $g$ que se aproxime a $f$.  ¿Qué es lo mejor que puede prometerle entre los siguientes:\n",
        "\n",
        "*   (a) Después de aprender, le proporcionará $g$ que garantizará aproximadamente $f$ bien fuera de la muestra \n",
        "\n",
        "*   (b) Después de aprender, le proporcionará una $g$, y con una alta probabilidad de que la $g$ que produzca se aproximará bastante a $f$ fuera de la muestra. \n",
        "\n",
        "*   (c) Sucederá una de dos cosas.\n",
        "  1.   Producirá una hipótesis $g$;\n",
        "  2.   Declarará que fracasó.\n",
        "\n",
        "  Si devuelve una hipótesis $g$, entonces con alta probabilidad la $g$ que produzca se aproximará a $f$ muy fuera de la muestra.\n",
        "\n",
        "\n"
      ]
    },
    {
      "cell_type": "markdown",
      "metadata": {
        "id": "n6ZTRiisrlFU"
      },
      "source": [
        "En estos casos no sabemos qué tan compleja puede ser $f$ y si lo fuera no se podrá aprender del todo. Pero al tener una gran cantidad de datos se prodrían generar muy buenos entrenamientos que aseguren que $g$ se aproxime bien fuera de las muestras. Así que lo que le prometo es (c).\n",
        "\n",
        "\n"
      ]
    },
    {
      "cell_type": "markdown",
      "metadata": {
        "id": "5CfB1V1kC5SP"
      },
      "source": [
        "# Ejercicio 2\n",
        "Learning from data, Problem 1.2\n",
        "\n",
        "Considere el perceptrón en dos dimensiones: $h(x)=$ sing$(w^Tx)$ donde $w=[w_0,w_1,w_2]^T$ y $x=[1,x_1,x_2]^T$. Técnicamente, $x$ tiene tres coordenadas, pero llamamos a este perceptrón bidimensional porque la primera coordenada es 1. \n",
        "\n"
      ]
    },
    {
      "cell_type": "markdown",
      "metadata": {
        "id": "bj4_IiUyR_w7"
      },
      "source": [
        "(a) Demuestre que las regiones en el plano donde $h(x)=+1$ y $h(x)=-1$ están separadas por una línea. Si expresamos esta línea mediante la ecuación $x_2=ax_1+b$, ¿Cuál es la pendiente $a$ y la intersección $b$ en términos de $w_0, w_1, w_2$? \n",
        "\n",
        "Para $h(x)=+1$ se tiene que $w^Tx>0$ y para $h(x)=-1$ se tiene que $w^Tx< 0$ entonces la línea que separa las regiones está dada por $w^Tx=0$, así:\n",
        "$$\n",
        "\\left.\n",
        "    \\begin{array}\\\\\n",
        "        w^Tx &= w_0+w_1x_1+w_2x_2\\\\\n",
        "        &= w_0+w_1x_1+w_2x_2 &=0\\\\\n",
        "        &= w_2x_2 &=-w_0-w_1x_1\\\\\n",
        "        &= x_2 &=-\\frac{w_0}{w_2}-\\frac{w_1}{w_2}x_1\\\\\n",
        "    \\end{array}\n",
        "\\right.\n",
        "$$\n",
        "Entonces podemos ver que $a=-\\frac{w_1}{w_2}$ y $b=-\\frac{w_0}{w_2}$."
      ]
    },
    {
      "cell_type": "code",
      "metadata": {
        "colab": {
          "base_uri": "https://localhost:8080/",
          "height": 281
        },
        "id": "lNmLh--H07z_",
        "outputId": "76782aff-0000-4671-a734-365e68b73764"
      },
      "source": [
        "def f(x):\n",
        "    return (-1/3)-(2/3)*x\n",
        "\n",
        "plt.subplot(1,2,1)\n",
        "plt.title(\"[1, 2, 3].x>=0\")\n",
        "x1,y1 = 1, f(1)\n",
        "x2,y2 = 1,f(-1)\n",
        "x3,y3 = -1, f(-1)\n",
        "plt.fill([x1,x2,x3,x1],[y1,y2,y3,y1])\n",
        "\n",
        "plt.subplot(1,2,2)\n",
        "plt.title(\"-[1, 2, 3].x>=0\")\n",
        "x1,y1 = 1, f(1)\n",
        "x2,y2 = -1,-1\n",
        "x3,y3 = -1, f(-1)\n",
        "plt.fill([x1,x2,x3,x1],[y1,y2,y3,y1])\n",
        "\n",
        "plt.show()"
      ],
      "execution_count": 2,
      "outputs": [
        {
          "output_type": "display_data",
          "data": {
            "image/png": "[encoded data removed]",
            "text/plain": [
              "<Figure size 432x288 with 2 Axes>"
            ]
          },
          "metadata": {
            "tags": [],
            "needs_background": "light"
          }
        }
      ]
    },
    {
      "cell_type": "markdown",
      "metadata": {
        "id": "o06FM1a4R7oD"
      },
      "source": [
        "En más  que dos dimensiones, las regiones +1 y -1 están separadas por un hiperplano, la generalización de una línea."
      ]
    },
    {
      "cell_type": "markdown",
      "metadata": {
        "id": "3amu9r-HC7uA"
      },
      "source": [
        "# Ejercicio 3\n",
        "Learning from data, Problem 1.4\n",
        "\n",
        "En el ejercicio 1.4, usamos un conjunto de datos artificiales para estudiar el algoritmo de aprendizaje del perceptrón.  Este problema lo lleva a explorar más el algoritmo con conjuntos de datos de diferentes tamaños y dimensiones.  \n",
        "\n",
        "  "
      ]
    },
    {
      "cell_type": "markdown",
      "metadata": {
        "id": "ncCfBxTpZkt3"
      },
      "source": [
        "(a) Genere un conjunto de datos separables linealmente de tamaño 20 como se indica en el ejercicio 1.4.  Grafique los ejemplos $\\{(x_n, y_n)\\}$ así como la función objetivo $f$ en un plano.  Asegúrese de marcar los ejemplos de diferentes clases de manera diferente.  y agregue etiquetas a los ejes del gráfico."
      ]
    },
    {
      "cell_type": "code",
      "metadata": {
        "id": "J4WS6OYd4iTH"
      },
      "source": [
        "#h(x)=sign(w^Tx)\n",
        "def sign(a1, a2): \n",
        "  if np.dot(a1, a2) >= 0:\n",
        "    return 1\n",
        "  else:\n",
        "    return -1\n",
        "\n",
        "def plot(data,w):\n",
        "  r = [[],[]] # 1\n",
        "  b = [[],[]] #-1\n",
        "\n",
        "  for i in range(len(data)):\n",
        "    if data[i][1] == 1:\n",
        "      r[0].append(data[i][0][1])\n",
        "      r[1].append(data[i][0][2])\n",
        "    else:\n",
        "      b[0].append(data[i][0][1])\n",
        "      b[1].append(data[i][0][2])\n",
        "\n",
        "  plt.scatter(r[0],r[1],color='red')\n",
        "  plt.scatter(b[0],b[1],color='blue')\n",
        "  plt.plot([-1,1], [(-w[0]+w[1])/w[2],(-w[0]-w[1])/w[2]],color='green') #f\n",
        "\n",
        "  plt.xlim(-1.1,1.1)\n",
        "  plt.ylim(-1.2,1.2)\n",
        "  plt.xlabel('x1')\n",
        "  plt.ylabel('x2')\n",
        "  plt.show()\n",
        "\n",
        "def plot2(data,wf,wg):\n",
        "  r = [[],[]] # 1\n",
        "  b = [[],[]] #-1\n",
        "\n",
        "  for i in range(len(data)):\n",
        "    if data[i][1] == 1:\n",
        "      r[0].append(data[i][0][1])\n",
        "      r[1].append(data[i][0][2])\n",
        "    else:\n",
        "      b[0].append(data[i][0][1])\n",
        "      b[1].append(data[i][0][2])\n",
        "\n",
        "  plt.scatter(r[0],r[1],color='red')\n",
        "  plt.scatter(b[0],b[1],color='blue')\n",
        "  plt.plot([-1,1], [(-wf[0]+wf[1])/wf[2],(-wf[0]-wf[1])/wf[2]],color='green', label = 'f') #f\n",
        "  plt.plot([-1,1], [(-wg[0]+wg[1])/wg[2],(-wg[0]-wg[1])/wg[2]],color='orange', label = 'g') #g\n",
        "  plt.legend()\n",
        "\n",
        "  plt.xlim(-1.1,1.1)\n",
        "  plt.ylim(-1.2,1.2)\n",
        "  plt.xlabel('x1')\n",
        "  plt.ylabel('x2')\n",
        "  plt.show()"
      ],
      "execution_count": 3,
      "outputs": []
    },
    {
      "cell_type": "code",
      "metadata": {
        "colab": {
          "base_uri": "https://localhost:8080/",
          "height": 279
        },
        "id": "oi_-TtBrNpvy",
        "outputId": "886b39ee-18a3-4761-c50b-8f9479a63118"
      },
      "source": [
        "def generate_f_D(n):\n",
        "  # f dado por w\n",
        "  # Los valores se escogen para que f siempre se pueda representar bien en [-1,1]x[-1,1]\n",
        "  w = [random.uniform(-10, 10)]\n",
        "  w.append(random.uniform(2*w[0], 10))\n",
        "  w.append(random.uniform(-10, 10))\n",
        "\n",
        "  # Conjunto de datos con su clasificación\n",
        "  data_set = []\n",
        "  for i in range(n):\n",
        "    x = [1, random.uniform(-1, 1), random.uniform(-1, 1)]\n",
        "    y = sign(w, x)\n",
        "    data_set.append([x,y])\n",
        "\n",
        "  return data_set, w\n",
        "\n",
        "data, w = generate_f_D(20)\n",
        "plot(data,w)"
      ],
      "execution_count": 4,
      "outputs": [
        {
          "output_type": "display_data",
          "data": {
            "image/png": "[encoded data removed]",
            "text/plain": [
              "<Figure size 432x288 with 1 Axes>"
            ]
          },
          "metadata": {
            "tags": [],
            "needs_background": "light"
          }
        }
      ]
    },
    {
      "cell_type": "markdown",
      "metadata": {
        "id": "v1kKjiV5and-"
      },
      "source": [
        "(b) Ejecute el algoritmo de aprendizaje del perceptrón en el conjunto de datos anterior.  Informe el número de actualizaciones que realiza el algoritmo antes de converger.  Grafique los ejemplos $\\{(x_n, y_n)\\}$, la función objetivo $f$.  y la hipótesis final $g$ en la misma figura.  Comente si $f$ está cerca de $g$.  "
      ]
    },
    {
      "cell_type": "code",
      "metadata": {
        "id": "YXzEn0V4N0yk"
      },
      "source": [
        "def misclassified(data,w):\n",
        "  m = []\n",
        "  for x in data:\n",
        "    # y(t) != sign(w^T(t),x(t))\n",
        "    if x[1] != sign(w,x[0]):\n",
        "      m.append(x)\n",
        "  return m"
      ],
      "execution_count": 5,
      "outputs": []
    },
    {
      "cell_type": "code",
      "metadata": {
        "colab": {
          "base_uri": "https://localhost:8080/",
          "height": 296
        },
        "id": "9WsLUDZqN24R",
        "outputId": "e315bf9c-a891-4f23-96e9-63dc2d6ba5aa"
      },
      "source": [
        "def perceptron(data_set):\n",
        "  # num actualizaciones\n",
        "  act = 0\n",
        "\n",
        "  # g dado por w\n",
        "  w = [random.uniform(-10, 10)]\n",
        "  w.append(random.uniform(2*w[0], 10))\n",
        "  w.append(random.uniform(-10, 10))\n",
        "  w = np.array(w)\n",
        "\n",
        "  m = misclassified(data_set,w)\n",
        "\n",
        "  # update rule\n",
        "  while m!=[]:\n",
        "    for x in m: \n",
        "      w = w + x[1]*np.array(x[0])    \n",
        "      act += 1  \n",
        "    m = misclassified(data_set,w)\n",
        "  print(\"Actualizaciones:\",act)\n",
        "  return w\n",
        "\n",
        "data, wf = generate_f_D(20)\n",
        "wg = perceptron(data)\n",
        "plot2(data,wf,wg)"
      ],
      "execution_count": 6,
      "outputs": [
        {
          "output_type": "stream",
          "text": [
            "Actualizaciones: 10\n"
          ],
          "name": "stdout"
        },
        {
          "output_type": "display_data",
          "data": {
            "image/png": "[encoded data removed]",
            "text/plain": [
              "<Figure size 432x288 with 1 Axes>"
            ]
          },
          "metadata": {
            "tags": [],
            "needs_background": "light"
          }
        }
      ]
    },
    {
      "cell_type": "markdown",
      "metadata": {
        "id": "6bOo8M5PQ9wV"
      },
      "source": [
        "El acercamiento de $g$ a $f$ depende del espacio que se encuentra entre los puntos azules y rojos, ya que si ese espacio es muy amplio, se pueden definir más $g$ que separe los puntos pero que no se parezca mucho a $f$."
      ]
    },
    {
      "cell_type": "markdown",
      "metadata": {
        "id": "bOrfGKETajnH"
      },
      "source": [
        "(c) Repita todo en (b) con otro conjunto de datos generado aleatoriamente de tamaño 20. Compare sus resultados con (b).  "
      ]
    },
    {
      "cell_type": "code",
      "metadata": {
        "colab": {
          "base_uri": "https://localhost:8080/",
          "height": 296
        },
        "id": "baW5cJEVORys",
        "outputId": "0a4688b2-9f4b-4c57-cb52-6daeb067b0f0"
      },
      "source": [
        "data, wf = generate_f_D(20)\n",
        "wg = perceptron(data)\n",
        "plot2(data,wf,wg)"
      ],
      "execution_count": 15,
      "outputs": [
        {
          "output_type": "stream",
          "text": [
            "Actualizaciones: 8\n"
          ],
          "name": "stdout"
        },
        {
          "output_type": "display_data",
          "data": {
            "image/png": "[encoded data removed]",
            "text/plain": [
              "<Figure size 432x288 with 1 Axes>"
            ]
          },
          "metadata": {
            "tags": [],
            "needs_background": "light"
          }
        }
      ]
    },
    {
      "cell_type": "markdown",
      "metadata": {
        "id": "9F8llRwoOesj"
      },
      "source": [
        "Como pondemos ver, el algoritmo encontró una $g$ muy diferente a la $f$ pero que cumple y el número de actualizaciones no es constante pero la diferencia no es grande."
      ]
    },
    {
      "cell_type": "markdown",
      "metadata": {
        "id": "67Gvp9UyagsH"
      },
      "source": [
        "(d) Repita todo en (b) con otro conjunto de datos generado aleatoriamente de tamaño 100. Compare sus resultados con (b).   "
      ]
    },
    {
      "cell_type": "code",
      "metadata": {
        "colab": {
          "base_uri": "https://localhost:8080/",
          "height": 296
        },
        "id": "DPfKg_F6Odrk",
        "outputId": "0c9a07d4-84b6-4674-b7c1-333d425eff7d"
      },
      "source": [
        "data, wf = generate_f_D(100)\n",
        "wg = perceptron(data)\n",
        "plot2(data,wf,wg)"
      ],
      "execution_count": 8,
      "outputs": [
        {
          "output_type": "stream",
          "text": [
            "Actualizaciones: 146\n"
          ],
          "name": "stdout"
        },
        {
          "output_type": "display_data",
          "data": {
            "image/png": "[encoded data removed]",
            "text/plain": [
              "<Figure size 432x288 with 1 Axes>"
            ]
          },
          "metadata": {
            "tags": [],
            "needs_background": "light"
          }
        }
      ]
    },
    {
      "cell_type": "markdown",
      "metadata": {
        "id": "VinCnUdNR3sO"
      },
      "source": [
        "Cuando tenemos más datos es mas probable que nuestra primera hipótisis genere muchos errores por eso las repeteciones aumentan y por otra parte es más probable que $g$ se acerque mucho a $f$ ya que tenemos más datos."
      ]
    },
    {
      "cell_type": "markdown",
      "metadata": {
        "id": "fCxXkmRyabYP"
      },
      "source": [
        "(e) Repita todo en (b) con otro conjunto de datos generado aleatoriamente de tamaño 1000. Compare sus resultados con (b). "
      ]
    },
    {
      "cell_type": "code",
      "metadata": {
        "colab": {
          "base_uri": "https://localhost:8080/",
          "height": 296
        },
        "id": "9WYb8edpSJgl",
        "outputId": "af1cc9e4-1292-4ba1-b099-7ed96c60231a"
      },
      "source": [
        "data, wf = generate_f_D(1000)\n",
        "wg = perceptron(data)\n",
        "plot2(data,wf,wg)"
      ],
      "execution_count": 9,
      "outputs": [
        {
          "output_type": "stream",
          "text": [
            "Actualizaciones: 1426\n"
          ],
          "name": "stdout"
        },
        {
          "output_type": "display_data",
          "data": {
            "image/png": "[encoded data removed]",
            "text/plain": [
              "<Figure size 432x288 with 1 Axes>"
            ]
          },
          "metadata": {
            "tags": [],
            "needs_background": "light"
          }
        }
      ]
    },
    {
      "cell_type": "markdown",
      "metadata": {
        "id": "3CHKVxQZ1MHd"
      },
      "source": [
        "Más datos, mejor resultado pero más tiempo"
      ]
    },
    {
      "cell_type": "markdown",
      "metadata": {
        "id": "_bG7W2dIaFdm"
      },
      "source": [
        "(f) Modifique el algoritmo de manera que tome $x_n\\in\\mathbb{R}^{10}$ en lugar de $\\mathbb{R}^2$. Genere aleatoriamente un conjunto de datos separables linealmente de tamaño 1,000 con $x_n\\in\\mathbb{R}^{10}$ y alimente el conjunto de datos al algoritmo.  ¿Cuántas actualizaciones necesita el algoritmo para converger?  "
      ]
    },
    {
      "cell_type": "code",
      "metadata": {
        "colab": {
          "base_uri": "https://localhost:8080/"
        },
        "id": "L9NzIoPfcF2G",
        "outputId": "1ebe1ad6-0069-4b45-cd64-a7a6f1b77b12"
      },
      "source": [
        "def generate_f_D10(n):\n",
        "  # f dado por w\n",
        "  w = []\n",
        "  for i in range(11):\n",
        "    w.append(random.uniform(-10, 10))\n",
        "\n",
        "  # Conjunto de datos con su clasificación\n",
        "  data_set = []\n",
        "  for i in range(n):\n",
        "    x = [1]\n",
        "    for i in range(10):\n",
        "      x.append(random.uniform(-1, 1))\n",
        "    y = sign(w, x)\n",
        "    data_set.append([x,y])\n",
        "\n",
        "  return data_set, w\n",
        "\n",
        "def perceptron10(data_set):\n",
        "  # num actualizaciones\n",
        "  act = 0\n",
        "\n",
        "  # g dado por w\n",
        "  w = []\n",
        "  for i in range(11):\n",
        "    w.append(random.uniform(-10, 10))\n",
        "  w = np.array(w)\n",
        "  \n",
        "  m = misclassified(data_set,w)\n",
        "\n",
        "  # update rule\n",
        "  while m!=[]:\n",
        "    for x in m: \n",
        "      w = w + x[1]*np.array(x[0])    \n",
        "      act += 1  \n",
        "    m = misclassified(data_set,w)\n",
        "  return act\n",
        "\n",
        "data, w = generate_f_D10(20)\n",
        "print(\"Actualizaciones:\",perceptron10(data))"
      ],
      "execution_count": 10,
      "outputs": [
        {
          "output_type": "stream",
          "text": [
            "Actualizaciones: 60\n"
          ],
          "name": "stdout"
        }
      ]
    },
    {
      "cell_type": "markdown",
      "metadata": {
        "id": "c-rjgb_QZ47Y"
      },
      "source": [
        "(g) Repita el algoritmo en el mismo conjunto de datos que (f) para 100 experimentos.  En las iteraciones de cada experimento, elija $x(t)$ de forma aleatoria en lugar de determinista.  Trace un histograma para el número de actualizaciones que el algoritmo necesita para converger."
      ]
    },
    {
      "cell_type": "code",
      "metadata": {
        "colab": {
          "base_uri": "https://localhost:8080/",
          "height": 295
        },
        "id": "DIkPpuTiqPRQ",
        "outputId": "1d3b7f4d-a364-4c62-a864-67d653e6a5b7"
      },
      "source": [
        "def perceptronA(data_set):\n",
        "  # num actualizaciones\n",
        "  act = 0\n",
        "\n",
        "  # g dado por w\n",
        "  w = []\n",
        "  for i in range(11):\n",
        "    w.append(random.uniform(-10, 10))\n",
        "  w = np.array(w)\n",
        "  \n",
        "  m = misclassified(data_set,w)\n",
        "\n",
        "  # update rule\n",
        "  while m!=[]:\n",
        "    for i in range(len(m)):\n",
        "      x = random.choice(m) \n",
        "      m.remove(x)\n",
        "      w = w + x[1]*np.array(x[0])    \n",
        "      act += 1  \n",
        "    m = misclassified(data_set,w)\n",
        "  return act\n",
        "  \n",
        "a = []\n",
        "for i in range(100):\n",
        "  data, w = generate_f_D10(1000)\n",
        "  a.append(perceptronA(data))\n",
        "plt.hist(a,rwidth=0.85)\n",
        "plt.title('Número de actualizaciones que el algoritmo necesita para converger')\n",
        "plt.xlabel('# de actualizacines')\n",
        "plt.ylabel('# de experimentos')\n",
        "plt.show()"
      ],
      "execution_count": 11,
      "outputs": [
        {
          "output_type": "display_data",
          "data": {
            "image/png": "[encoded data removed]",
            "text/plain": [
              "<Figure size 432x288 with 1 Axes>"
            ]
          },
          "metadata": {
            "tags": [],
            "needs_background": "light"
          }
        }
      ]
    },
    {
      "cell_type": "markdown",
      "metadata": {
        "id": "EuR_05QCZxHG"
      },
      "source": [
        "(h) Resuma sus conclusiones con respecto a la precisión y el tiempo de ejecución en función de $N$ y $d$"
      ]
    },
    {
      "cell_type": "markdown",
      "metadata": {
        "id": "HHPCfMybrKTn"
      },
      "source": [
        "Entre más datos, o sea $N$ mayor, podemos encontrar un mejor $g$ que se aproxime a $f$ con un gran costo de tiempo, por otra parte así sean pocos datos, se puede encontrar sencillamente una $g$ que cumpla con clasificar pero que se diferencie mucho con $f$. Porte entre más grande $d$ tenemos que tiene que también aumenta el costo de tiempo pero no tan rápido como si aumentamos $N$."
      ]
    },
    {
      "cell_type": "markdown",
      "metadata": {
        "id": "_thfVlTkC8F-"
      },
      "source": [
        "# Ejercicio 4\n",
        "Learning from data, Problem 1.6\n",
        "\n",
        "Considere una muestra de 10 canicas extraídas independientemente de un recipiente que contiene canicas rojas y verdes.  La probabilidad de una canica roja es $\\mu$.  Para $\\mu=0.05$, $\\mu= 0.5$ y $\\mu = 0.8$, calcule la probabilidad de no obtener canicas rojas ($\\nu= 0$) en los siguientes casos.  "
      ]
    },
    {
      "cell_type": "markdown",
      "metadata": {
        "id": "TWkRBjkCtPZi"
      },
      "source": [
        "(a) Extraemos solo una de esas muestras.  Calcule la probabilidad de que $\\nu=0$. "
      ]
    },
    {
      "cell_type": "markdown",
      "metadata": {
        "id": "pinNCQ8K5Uro"
      },
      "source": [
        "$$P[\\nu=0]=(1-\\mu)^n$$"
      ]
    },
    {
      "cell_type": "code",
      "metadata": {
        "colab": {
          "base_uri": "https://localhost:8080/"
        },
        "id": "4zxAqpSE5oDh",
        "outputId": "f589f8ac-09f5-4e92-c468-ae100d47988b"
      },
      "source": [
        "print((1-0.05)**10)\n",
        "print((1-0.5)**10)\n",
        "print((1-0.8)**10)"
      ],
      "execution_count": 12,
      "outputs": [
        {
          "output_type": "stream",
          "text": [
            "0.5987369392383787\n",
            "0.0009765625\n",
            "1.0239999999999978e-07\n"
          ],
          "name": "stdout"
        }
      ]
    },
    {
      "cell_type": "markdown",
      "metadata": {
        "id": "J-_lj5ZDtRR5"
      },
      "source": [
        "(b) Extraemos 1000 muestras independientes.  Calcule la probabilidad de que (al menos) una de las muestras tenga $\\nu=0$. "
      ]
    },
    {
      "cell_type": "markdown",
      "metadata": {
        "id": "ihEAHuiN923O"
      },
      "source": [
        "Podemos ver el problema como el complemento de obtener al menos una canina roja en todas las muestras\n",
        "$$1-[1-(1-\\mu)^{10}]^{1000}$$"
      ]
    },
    {
      "cell_type": "code",
      "metadata": {
        "colab": {
          "base_uri": "https://localhost:8080/"
        },
        "id": "TvJW9jVb-dk9",
        "outputId": "8ebb3d5f-32e4-4cda-be21-4ceba3115666"
      },
      "source": [
        "print(1-(1-(1-0.05)**10)**1000)\n",
        "print(1-(1-(1-0.5)**10)**1000)\n",
        "print(1-(1-(1-0.8)**10)**1000)"
      ],
      "execution_count": 13,
      "outputs": [
        {
          "output_type": "stream",
          "text": [
            "1.0\n",
            "0.623576201943276\n",
            "0.00010239476257623004\n"
          ],
          "name": "stdout"
        }
      ]
    },
    {
      "cell_type": "markdown",
      "metadata": {
        "id": "2RaxVuJutTxA"
      },
      "source": [
        "(c) Repita (b) para 1,000,000 muestras independientes."
      ]
    },
    {
      "cell_type": "code",
      "metadata": {
        "id": "Aw-XxoIi_UWJ",
        "colab": {
          "base_uri": "https://localhost:8080/"
        },
        "outputId": "fd0b4585-353f-4138-d5fa-d05179157e4e"
      },
      "source": [
        "print(1-(1-(1-0.05)**10)**1000000)\n",
        "print(1-(1-(1-0.5)**10)**1000000)\n",
        "print(1-(1-(1-0.8)**10)**1000000)"
      ],
      "execution_count": 14,
      "outputs": [
        {
          "output_type": "stream",
          "text": [
            "1.0\n",
            "1.0\n",
            "0.09733159268316072\n"
          ],
          "name": "stdout"
        }
      ]
    },
    {
      "cell_type": "markdown",
      "metadata": {
        "id": "WPMzVKIBC50D"
      },
      "source": [
        "# Ejercicio 5\n",
        "Learning from data, Problem 1.9\n",
        "\n",
        "En este problema, derivamos una forma de la ley de los grandes números que tiene un límite exponencial, llamado límite de Chernoff.  Nos enfocamos en el simple caso de lanzar una moneda al aire y usamos un enfoque similar al del problema 1.8.  \n",
        "\n"
      ]
    },
    {
      "cell_type": "markdown",
      "metadata": {
        "id": "rvC1aGDdEcVE"
      },
      "source": [
        "(a) Sea $t$ una variable aleatoria (finita), $\\alpha$ una constante positiva y $s$ un parámetro positivo.  Si $T(s)= \\mathbb{E}_t(e^{st})$, demuestre que $$\\mathbb{P}[t\\geq \\alpha]\\leq e^{-s\\alpha}T(s)$$.  [Sugerencia: $e^{s\\alpha}$ es monótonamente creciente en $t$.] \n",
        "\n",
        "\n",
        "\n",
        "\n"
      ]
    },
    {
      "cell_type": "markdown",
      "metadata": {
        "id": "fTiIlWZS2ss-"
      },
      "source": [
        "Sea $X(t\\geq\\alpha)$ una variable aleatoria tal que si $t\\geq\\alpha$ entonces es igual a 1 y 0 de lo contrario.Como $e^{st}$ es monótonamente creciente entonces $e^{st}X(t\\geq\\alpha)\\leq e^{st}$ además la esperanza es monótonamente creciente tenemos \n",
        "$$\\begin{align*}\n",
        "E[e^{\\alpha t} X(t\\geq\\alpha)] &\\leq E[e^{st}]\\\\\n",
        "e^{\\alpha t} E[X(t\\geq\\alpha)] &\\leq E[e^{st}]\\\\\n",
        "E[X(t\\geq\\alpha)] &\\leq e^{-\\alpha t}E[e^{st}]\\\\\n",
        "P[t\\geq\\alpha] &\\leq e^{st}T(s)\\\\\n",
        "\\end{align*}$$\n"
      ]
    },
    {
      "cell_type": "markdown",
      "metadata": {
        "id": "mz5btWw1E4j8"
      },
      "source": [
        "(B) Sean $u_1,...,u_N$ variables aleatorias y sea $u=\\frac{1}{N}\\sum_{n=1}{N}u_n$. Si $U(s)=\\mathbb{E}_{u_n}(e^{su_n})$ (para cualquier $n$), demuestre que, $$\\mathbb{P}[u\\geq\\alpha]\\leq(e^{-s\\alpha}U (s))^N$$"
      ]
    },
    {
      "cell_type": "markdown",
      "metadata": {
        "id": "bnli1Qfq5vr-"
      },
      "source": [
        "Tomando $t=uN$ y reemplazando $\\alpha$ por $N\\alpha$ en el problema anterior tenemos \n",
        "$$\\begin{align*}\n",
        "P[uN\\geq N\\alpha] &\\leq e^{sN\\alpha}E[e^{suN}])\\\\\n",
        "P[u \\ge \\alpha] &\\le e^{-sN\\alpha}E[e^{s\\sum_{n=1}^{N}u_n}]\\\\\n",
        "P[u \\ge \\alpha] &\\le e^{-sN\\alpha}E[\\prod_{n=1}^{N}e^{su_n}]\\\\\n",
        "P[u \\ge \\alpha] &\\le e^{-sN\\alpha}\\prod_{n=1}^{N}E[e^{su_n}]\\\\\n",
        "P[u \\ge \\alpha] &\\le e^{-sN\\alpha}E[e^{su_n}]^N\\\\\n",
        "P[u \\ge \\alpha] &\\le \\left(e^{-s\\alpha}U(s)\\right)^N\\\\\n",
        "\\end{align*}$$"
      ]
    },
    {
      "cell_type": "markdown",
      "metadata": {
        "id": "stZdhyd7E2MX"
      },
      "source": [
        "(c) Suponga que $\\mathbb{P}[u_n=0]=\\mathbb{P}[u_n = 1] =\\frac{1}{2}$ (moneda justa). Evalúe $U (s)$ como una función de $s$, y minimice $e^{-s\\alpha}U (s)$ con respecto a $s$ para un $\\alpha$ fijo, $0 <\\alpha <1$. "
      ]
    },
    {
      "cell_type": "markdown",
      "metadata": {
        "id": "B8R_cSAx7eHZ"
      },
      "source": [
        "$ U(s)=E(e^{su_n})=P(u_n=0)e^0+P(u_n=1)e^s=\\frac{1}{2}(1+e^s)$, minimicemos $e^{-s\\alpha}U(s)$ tomando su derivada con respecto a $s$ y sea igual a $0$, tenemos\n",
        "$$-\\alpha e^{-s\\alpha}\\frac{1}{2}(1+e^s)+e^{-s\\alpha}\\frac{1}{2}e^s=0$$\n",
        "concluimos que $s=\\ln{\\frac{\\alpha}{1-\\alpha}}$ desde $0<\\alpha<1$."
      ]
    },
    {
      "cell_type": "markdown",
      "metadata": {
        "id": "_PgLsiyxEzvl"
      },
      "source": [
        "(d) Concluya en (c) que, para $0 <\\epsilon<\\frac{1}{2}$, $$\\mathbb{P} [u\\geq\\mathbb{E}(u)+\\epsilon]\\leq 2^{-\\beta N}$$ donde $\\beta= 1+(\\frac{1}{2}+ \\epsilon)\\log_2(\\frac{1}{2}+\\epsilon)+(\\frac{1}{2}-\\epsilon)log_2(\\frac{1}{2}-\\epsilon)$ y $\\mathbb{E}(u)=\\frac{1}{2}$ Demuestre que $\\beta> 0$, por lo tanto, el límite disminuye exponencialmente en $N$."
      ]
    },
    {
      "cell_type": "markdown",
      "metadata": {
        "id": "m2tQ_P_r9opL"
      },
      "source": [
        "Es fácil ver que $E[u]=\\frac{1}{2}$. Sea $\\alpha=E(u)+\\epsilon=\\frac{1}{2}+\\epsilon$, entonces tenemos $P[u\\geq E(u)+\\epsilon]\\le(e^{-s\\alpha}U(s))^N$ del problema anterior. Dado que esta desigualdad es válida para cada $s>0$, también es válida para $s=\\ln{\\frac{\\alpha}{1-\\alpha}}$, tenemos\n",
        "$$\n",
        "\\begin{align*}\n",
        "e^{-s\\alpha}U(s)&=e^{-s\\alpha}\\frac{1}{2}(1+e^s)\\\\\n",
        "&=\\frac{1}{2}e^{-\\alpha\\ln{\\frac{\\alpha}{1-\\alpha}}}(1+e^{\\ln{\\frac{\\alpha}{1-\\alpha}}})\\\\\n",
        "&=\\frac{1}{2}\\left(\\frac{1-\\alpha}{\\alpha}\\right)^{\\alpha}(1+\\frac{\\alpha}{1-\\alpha})\\\\\n",
        "&=\\frac{1}{2}\\left(\\frac{1-\\alpha}{\\alpha}\\right)^{\\alpha}\\frac{1}{1-\\alpha}\\\\\n",
        "&=\\frac{1}{2} \\frac{(1-\\alpha)^{\\alpha-1}}{\\alpha^{\\alpha}}\\\\\n",
        "&=\\frac{1}{2}\\frac{(\\frac{1}{2}-\\epsilon)^{\\epsilon-\\frac{1}{2}}}{(\\frac{1}{2}+\\epsilon)^{\\frac{1}{2}+\\epsilon}}\\\\\n",
        "&=\\frac{1}{2}\\left(\\frac{1}{2}-\\epsilon\\right)^{-(\\frac{1}{2}-\\epsilon)}\\left(\\frac{1}{2}+\\epsilon\\right)^{-(\\frac{1}{2}+\\epsilon)}\\\\\n",
        "&=2^{-\\beta}\n",
        "\\end{align*}\n",
        "$$\n"
      ]
    }
  ]
}