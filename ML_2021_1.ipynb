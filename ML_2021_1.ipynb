{
  "nbformat": 4,
  "nbformat_minor": 0,
  "metadata": {
    "colab": {
      "name": "ML 2021-1.ipynb",
      "provenance": [],
      "authorship_tag": "ABX9TyOxZ7dkNdZ26aASvUti+YGa",
      "include_colab_link": true
    },
    "kernelspec": {
      "name": "python3",
      "display_name": "Python 3"
    },
    "language_info": {
      "name": "python"
    }
  },
  "cells": [
    {
      "cell_type": "markdown",
      "metadata": {
        "id": "view-in-github",
        "colab_type": "text"
      },
      "source": [
        "<a href=\"https://colab.research.google.com/github/liortiz/ML-2021/blob/main/ML_2021_1.ipynb\" target=\"_parent\"><img src=\"https://colab.research.google.com/assets/colab-badge.svg\" alt=\"Open In Colab\"/></a>"
      ]
    },
    {
      "cell_type": "markdown",
      "metadata": {
        "id": "jPTmuve7BTtj"
      },
      "source": [
        "\n",
        "<h3><center>Introducción al Aprendizaje de Máquina</center>\n",
        "<center>2021-I</center>\n",
        "<center>Lizeth Catherine Ortiz Pulido</center>\n",
        "<center>liortiz@unal.edu.co</center></h3>"
      ]
    },
    {
      "cell_type": "markdown",
      "metadata": {
        "id": "LWcqkqftCjha"
      },
      "source": [
        "# Ejercicio 1\n",
        "Learning from data, Exercice 1.2\n",
        "\n",
        "Supongamos que usamos un perceptron para detectar mensajes de spam.  Digamos que cada mensaje de correo electrónico está representado por la frecuencia de aparición de palabras clave, y el resultado es +1 si el mensaje se considera spam."
      ]
    },
    {
      "cell_type": "markdown",
      "metadata": {
        "id": "TaAy6xU9ULvT"
      },
      "source": [
        "a) ¿Puede pensar en algunas palabras clave que terminarán con un gran peso positivo en el perceptrón?\n",
        "\n",
        "Obsequio, Lotería, Regalo,Juegos Gratis, Bono de Bienvenida, Cupón de oferta, Gratis, Fortuna, Dinero fácil/extra, Felicidades, Urgente, Desesperado, Ayuda por favor, Sexo, Conoce solteros, Elimina arrugas, Pierde peso...\n"
      ]
    },
    {
      "cell_type": "markdown",
      "metadata": {
        "id": "tQl3QgcsUPb1"
      },
      "source": [
        "(b) ¿Qué hay de las palabras clave que obtendrán un peso negativo? \n",
        "\n",
        "Buenos días/tardes, Nombre del receptor, Universidad, Profesor, Jefe, Trabajo...\n"
      ]
    },
    {
      "cell_type": "markdown",
      "metadata": {
        "id": "x0P_ONEbUShA"
      },
      "source": [
        "(c) ¿Qué parámetro del perceptrón afecta directamente a cuántos mensajes límite terminan siendo clasificados como spam?\n",
        "\n",
        "Teniendo en cuenta que el perceptrón se puede ver como:\n",
        "$$h(x)=sign\\Bigg(\\Bigg(\\sum^d_{i=1}\\Bigg)+b\\Bigg)$$\n",
        "Entonces el párametro que afecta directamente a cuántos mensajes límite terminan siendo clasificados como spam es $b$."
      ]
    },
    {
      "cell_type": "markdown",
      "metadata": {
        "id": "5CfB1V1kC5SP"
      },
      "source": [
        "# Ejercicio 2\n",
        "Learning from data, Exercice 1.3\n",
        "\n",
        "La regla de actualización de peso $w(t+1)=w(t)+y(t)x(t)$ tiene la buena interpretación de que se mueve en la dirección de clasificar $x(t)$ correctamente."
      ]
    },
    {
      "cell_type": "markdown",
      "metadata": {
        "id": "C2hl-kDSw8_c"
      },
      "source": [
        "(a) Muestre que $y(t)w^T(t)x(t)< 0$   [Sugerencia: $x(t)$ está mal clasificado por $w(t)$.] \n",
        "\n",
        "Como $x(t)$ está mal clasificado por $w(t)$ entonces $\\operatorname{sign} (w^T(t)x(t))\\ne \\operatorname{sign}y(t)$ así, $y(t)w^T(t)x(t)< 0$."
      ]
    },
    {
      "cell_type": "markdown",
      "metadata": {
        "id": "a2ULWYjMw-17"
      },
      "source": [
        "(b) Muestre que $y(t)w^T(t+1)x(t)>y(t)w^T(t)x(t)$ [Sugerencia: Utilice $w(t+1)=w(t)+y(t)x(t)$.] \n",
        "\n",
        "$$\n",
        "\\left.\n",
        "    \\begin{array}\\\\\n",
        "        y(t)w^T(t)x(t) &< y(t)w^T(t)x(t) + y(t)(y(t)x(t))^Tx(t)\\\\\n",
        "        &=(y(t)w(t)^T+y(t)(y(t)x(t))^T)x(t)\\\\\n",
        "        &=y(t)(w(t)+y(t)x(t))^Tx(t)\\\\\n",
        "        &=y(t)w^T(t+1)x(t)\n",
        "    \\end{array}\n",
        "\\right.\n",
        "$$"
      ]
    },
    {
      "cell_type": "markdown",
      "metadata": {
        "id": "IBdrm89xxBc5"
      },
      "source": [
        "\n",
        "(c) En lo que respecta a la clasificación de $x(t)$, argumente que el movimiento de  $w(t)$ a $w(t+1)$ es un movimiento \"en la dirección correcta\".\n",
        "\n",
        "Teniendo en cuenta que $y(t)w^T(t)x(t)$ es creciente tenemos dos casos: \n",
        "\n",
        "1.   Si $y(t)$ es positivo entonces $w^T(t)x(t)$ es negativo, así al aumentar $y(t)w^T(t)x(t)$, $w^T(t)x(t)$ se mueve positivamente.\n",
        "2.   Si $y(t)$ es negativo entonces $w^T(t)x(t)$ es positivo, así al aumentar $y(t)w^T(t)x(t)$, $w^T(t)x(t)$ se mueve negativamente.\n",
        "\n",
        "Así que el paso de $w(t)$ a $w(t+1)$ es un movimiento \"en la dirección correcta\" respecto a la clasificación de $x(t)$."
      ]
    },
    {
      "cell_type": "markdown",
      "metadata": {
        "id": "3amu9r-HC7uA"
      },
      "source": [
        "# Ejercicio 3\n",
        "Learning from data, Exercice 1.10\n",
        "\n",
        "A continuación, se muestra un experimento que ilustra la diferencia entre un solo contenedor y varios contenedores.  Ejecute una simulación por computadora para lanzar 1,000 monedas justas.  Lanza cada moneda de forma independiente 10 veces.  Centrémonos en 3 monedas de la siguiente manera: $c_1$ es la primera moneda lanzada;  $c_{rand}$ es una moneda que eliges al azar;  $c_{min}$ es la moneda que tuvo la menor frecuencia de caras (elija la primera en aparecer en caso de empate).  Sea $v_1$, $v_{rand}$ y $v_{min}$ la fracción de caras que obtenga por las tres monedas respectivas."
      ]
    },
    {
      "cell_type": "markdown",
      "metadata": {
        "id": "P40xvoKEm7Dl"
      },
      "source": [
        "(a) ¿Cuál es $\\mu$ para las tres monedas seleccionadas?  "
      ]
    },
    {
      "cell_type": "code",
      "metadata": {
        "colab": {
          "base_uri": "https://localhost:8080/"
        },
        "id": "GV2hWf4FQR7F",
        "outputId": "1f76a536-0dab-45f1-bbf5-75069349a36a"
      },
      "source": [
        "import numpy as np\n",
        "import matplotlib.pyplot as plt\n",
        "import math\n",
        "\n",
        "def flipCoinsFreq(nCoins,nTrials):\n",
        "  numHeads = np.zeros(nCoins)\n",
        "  for i in range(nTrials):\n",
        "    # va sumando si obtiene cara o no en cada tirada\n",
        "    numHeads += np.random.binomial(1,0.5,nCoins)\n",
        "\n",
        "  # se calcula la frecuencia de caras de cada moneda\n",
        "  headFreq = numHeads/nTrials\n",
        "\n",
        "  # se escogen las frecuencias de las monedas \"especiales\"\n",
        "  v_1 = headFreq[0]\n",
        "  v_min = np.min(headFreq)\n",
        "  v_rand = np.random.choice(headFreq)\n",
        "\n",
        "  # se calcula el mu\n",
        "  mu = (v_1+v_min+v_rand)/3  \n",
        "\n",
        "  return v_1, v_min, v_rand, mu\n",
        "\n",
        "v_1,v_min,v_rand,mu = flipCoinsFreq(1000,10)\n",
        "print(\"La frecuencia de la primera moneda es: \",v_1)\n",
        "print(\"La frecuencia menor es: \",v_min)\n",
        "print(\"La frecuencia de una moneda aleatoria es: \",v_rand)\n",
        "print(\"El promedio de estas tres frecuencias es (mu): \",mu)"
      ],
      "execution_count": 1,
      "outputs": [
        {
          "output_type": "stream",
          "text": [
            "La frecuencia de la primera moneda es:  0.9\n",
            "La frecuencia menor es:  0.0\n",
            "La frecuencia de una moneda aleatoria es:  0.6\n",
            "El promedio de estas tres frecuencias es (mu):  0.5\n"
          ],
          "name": "stdout"
        }
      ]
    },
    {
      "cell_type": "markdown",
      "metadata": {
        "id": "qxP0QSudm9gK"
      },
      "source": [
        "(b) Repita todo este experimento un gran número de veces (por ejemplo, 100, 000 ejecuciones de todo el experimento) para obtener varias instancias de $v_1$, $v_{rand}$ y $v_{min}$ y trazar los histogramas de las distribuciones de $v_1$, $v_{rand}$ y $v_{min}$. Tenga en cuenta que las monedas que terminan en $c_{rand}$ y $c_{min}$, pueden diferir de una ejecución a otra"
      ]
    },
    {
      "cell_type": "code",
      "metadata": {
        "colab": {
          "base_uri": "https://localhost:8080/",
          "height": 316
        },
        "id": "1LYVissCXTVq",
        "outputId": "e81df091-4887-47f6-90f2-8eb2d2c5cac2"
      },
      "source": [
        "v_1s = []\n",
        "v_mins = []\n",
        "v_rands = []\n",
        "\n",
        "for i in range(100000):\n",
        "  # se calculan las frecuencias para luego guardarlas\n",
        "  v_1Aux,v_minAux,v_randAux,mu = flipCoinsFreq(1000,10)  \n",
        "  v_1s.append(v_1Aux)\n",
        "  v_mins.append(v_minAux)\n",
        "  v_rands.append(v_randAux)\n",
        "\n",
        "fig, axs = plt.subplots(1, 3, sharey=True, tight_layout=True,sharex=True)\n",
        "axs[0].hist(v_1s, bins=10)\n",
        "axs[0].set_xlabel('v_1s')\n",
        "axs[1].hist(v_rands,bins=10)\n",
        "axs[1].set_xlabel('v_rands')\n",
        "axs[2].hist(v_mins, bins=5)\n",
        "axs[2].set_xlabel('v_mins')"
      ],
      "execution_count": 2,
      "outputs": [
        {
          "output_type": "execute_result",
          "data": {
            "text/plain": [
              "Text(0.5, 0, 'v_mins')"
            ]
          },
          "metadata": {
            "tags": []
          },
          "execution_count": 2
        },
        {
          "output_type": "display_data",
          "data": {
            "image/png": "[encoded data removed]",
            "text/plain": [
              "<Figure size 432x288 with 3 Axes>"
            ]
          },
          "metadata": {
            "tags": [],
            "needs_background": "light"
          }
        }
      ]
    },
    {
      "cell_type": "markdown",
      "metadata": {
        "id": "Vgsgq9cCm_w0"
      },
      "source": [
        "(c) Utilizando (b), grafique estimaciones para $\\mathbb{P}[|\\nu-\\mu|>\\epsilon]$ como una función de $\\epsilon$, junto con el límite de Hoeffding $2e^{-2\\epsilon^2N}$ (en el mismo gráfico). "
      ]
    },
    {
      "cell_type": "code",
      "metadata": {
        "colab": {
          "base_uri": "https://localhost:8080/",
          "height": 284
        },
        "id": "o28y_SYPb1nm",
        "outputId": "b5829679-97dd-4d02-fdc5-95d55b743a6f"
      },
      "source": [
        "def limHoeffding(e,n):\n",
        "  return 2*np.exp(-2*n*e**2)\n",
        "  \n",
        "e = np.arange(0.1,0.5,0.05)\n",
        "g_1 = np.zeros(len(e))\n",
        "g_rand = np.zeros(len(e))\n",
        "g_min = np.zeros(len(e))\n",
        "hoeffding = limHoeffding(e,10)\n",
        "\n",
        "# se calculan las estimaciones\n",
        "for i in range(len(e)):\n",
        "  g_1[i]=np.sum(np.abs(np.array(v_1s)-0.5)>e[i])/100000\n",
        "  g_rand[i]=np.sum(np.abs(np.array(v_rands)-0.5)>e[i])/100000\n",
        "  g_min[i]=np.sum(np.abs(np.array(v_mins)-0.5)>e[i])/100000\n",
        "\n",
        "plt.plot(e, g_1,  color='r',label='Primera moneda')\n",
        "plt.plot(e, g_rand, color='g',label='Moneada aleatoria')\n",
        "plt.plot(e, g_min,  color='b',label='Moneda con menor frecuencia')\n",
        "plt.plot(e, hoeffding, color='y', label='Cota de Hoeffding')\n",
        "plt.legend()"
      ],
      "execution_count": 3,
      "outputs": [
        {
          "output_type": "execute_result",
          "data": {
            "text/plain": [
              "<matplotlib.legend.Legend at 0x7f0b441b5950>"
            ]
          },
          "metadata": {
            "tags": []
          },
          "execution_count": 3
        },
        {
          "output_type": "display_data",
          "data": {
            "image/png": "[encoded data removed]",
            "text/plain": [
              "<Figure size 432x288 with 1 Axes>"
            ]
          },
          "metadata": {
            "tags": [],
            "needs_background": "light"
          }
        }
      ]
    },
    {
      "cell_type": "markdown",
      "metadata": {
        "id": "ofedLQKEnC9-"
      },
      "source": [
        "(d) Qué monedas obedecen al límite de Hoeffding y cuáles no. Explique por qué. \n",
        "\n",
        "Las monedas $c_1$ y $c_{rand}$ van a obedecer el límite de Hoeffding, porque son escogidas antes de generar los datos, a diferencia  $c_{min}$ la cual es escogida después de evaluar todos los datos dependiendo de ellos."
      ]
    },
    {
      "cell_type": "markdown",
      "metadata": {
        "id": "lkDoeE8SreWe"
      },
      "source": [
        "(e) Relacione la parte (d) con los múltiples contenedores de la figura 1.10.\n",
        "\n",
        "Tomar $h_i$ con menos errores dentro de la muestra, es como tomar $c_{min}$, pero esto no es garantía de que vaya a actuar igual en todos los casos."
      ]
    },
    {
      "cell_type": "markdown",
      "metadata": {
        "id": "_thfVlTkC8F-"
      },
      "source": [
        "# Ejercicio 4\n",
        "Learning from data, Exercice 1.11\n",
        "\n",
        "Se nos proporciona un conjunto de datos $D$ de 25 ejemplos de entrenamiento de una función objetivo desconocida $f: X \\rightarrow Y,$ donde $X = \\mathbb{R}$ y $Y =\\{-1, +1\\}$.  Para aprender $f$, usamos un conjunto de hipótesis simple $H = \\{h_1, ​​h_2\\}$ donde $h_1$ es la función constante +1 y $h_2$ es la constante -1.  \n",
        "\n",
        "Consideramos dos algoritmos de aprendizaje, $S$ (inteligente) y $C$ (loco).  $S$ elige la hipótesis que más concuerda con $D$ y $C$ elige la otra hipótesis deliberadamente.  Veamos cómo funcionan estos algoritmos fuera de la muestra desde los puntos de vista determinista y probabilístico.  Suponga en el punto de vista probabilístico que hay una distribución de probabilidad en $X$ y sea $\\mathbb{P}[f (x) = +1] = p$."
      ]
    },
    {
      "cell_type": "markdown",
      "metadata": {
        "id": "inZHOyJ2IZ_q"
      },
      "source": [
        "(a) ¿Puede $S$ producir una hipótesis que esté garantizada para funcionar mejor que la aleatoria en cualquier punto fuera de $D$?  \n",
        "\n",
        "No se puede estar seguro porque los puntos de afuera de $D$ pueden estar actuando muy diferente a los escogidos en la muestra."
      ]
    },
    {
      "cell_type": "markdown",
      "metadata": {
        "id": "4Z6ux6ikIbsT"
      },
      "source": [
        "(b) Suponga para el resto del ejercicio que todos los ejemplos en $D$ tienen $y_n =+ 1$.  ¿Es posible que la hipótesis que produce $C$ resulte ser mejor que la hipótesis que produce $S$? \n",
        "\n",
        "Si, $C$ tienes una probabilidad de $1/2$ en acertar en los puntos fuera de $D$."
      ]
    },
    {
      "cell_type": "markdown",
      "metadata": {
        "id": "cTLwb9XuIdWT"
      },
      "source": [
        " (c) Si $p = 0.9$, ¿cuál es la probabilidad de que $S$ produzca una hipótesis mejor que $C$?  \n",
        "\n",
        "$S$ acertaría en un $90\\%$ y $C$ un $10\\%$."
      ]
    },
    {
      "cell_type": "markdown",
      "metadata": {
        "id": "Odrmxk0uIevx"
      },
      "source": [
        "(d) ¿Existe algún valor de $p$ para el que sea más probable que $C$ produzca una hipótesis mejor que $S$?\n",
        "\n",
        "Si $p<0.5$ entonces $C$ tendría una probabilidad moyor o igual a $50\\%$."
      ]
    },
    {
      "cell_type": "markdown",
      "metadata": {
        "id": "WPMzVKIBC50D"
      },
      "source": [
        "# Ejercicio 5\n",
        "- Relación de $\\frac{R^2\\|\\theta^*\\|^2}{\\gamma^2}$\n",
        "\n",
        "Teniendo en cuenta que $R$ es el radio de la bola que acota nuestros datos, $\\theta^*$ es el parámetro ideal de clasificación, $\\gamma$ es el margen que nos garantiza la existencia de un clasificador linear y que \n",
        "$$\n",
        "\\left.\n",
        "    \\begin{array}\\\\\n",
        "        \\frac{k\\gamma}{\\sqrt{kR^2}\\|\\theta^*\\|}&\\leq cos(\\theta^*,\\theta^{(k)})\\\\\n",
        "        \\frac{k\\gamma}{\\sqrt{kR^2}\\|\\theta^*\\|}&\\leq 1\\\\\n",
        "        \\frac{k^2\\gamma^2}{kR^2\\|\\theta^*\\|^2}&\\leq 1\\\\\n",
        "        k&\\leq\\frac{R^2\\|\\theta^*\\|^2}{\\gamma^2}\n",
        "    \\end{array}\n",
        "\\right.\n",
        "$$\n",
        "\n",
        "Entonces podemos decir que $\\frac{R^2\\|\\theta^*\\|^2}{\\gamma^2}$ es una cota para la complejidad del algoritmo: Entre más grande sea $R$, nuestros datos van a estar en un espacio grande lo que complica analizarlos y si $\\gamma$ es grande facilita clasificar los datos."
      ]
    },
    {
      "cell_type": "markdown",
      "metadata": {
        "id": "7_tIKI61C6Hl"
      },
      "source": [
        "# Ejercicio 6\n",
        "Simular XOR"
      ]
    },
    {
      "cell_type": "markdown",
      "metadata": {
        "id": "TuDtlIAVd3vr"
      },
      "source": [
        "![Imagen1.png](data:image/png;base64,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)"
      ]
    }
  ]
}