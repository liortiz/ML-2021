{
  "nbformat": 4,
  "nbformat_minor": 0,
  "metadata": {
    "colab": {
      "name": "ML 2021-3.ipynb",
      "provenance": [],
      "authorship_tag": "ABX9TyPjAe0XDcGnaBaugmHF7/vp",
      "include_colab_link": true
    },
    "kernelspec": {
      "name": "python3",
      "display_name": "Python 3"
    },
    "language_info": {
      "name": "python"
    }
  },
  "cells": [
    {
      "cell_type": "markdown",
      "metadata": {
        "id": "view-in-github",
        "colab_type": "text"
      },
      "source": [
        "<a href=\"https://colab.research.google.com/github/liortiz/ML-2021/blob/main/ML_2021_3.ipynb\" target=\"_parent\"><img src=\"https://colab.research.google.com/assets/colab-badge.svg\" alt=\"Open In Colab\"/></a>"
      ]
    },
    {
      "cell_type": "markdown",
      "metadata": {
        "id": "jPTmuve7BTtj"
      },
      "source": [
        "\n",
        "<h3><center>Introducción al Aprendizaje de Máquina</center>\n",
        "<center>2021-I</center>\n",
        "<center>Lizeth Catherine Ortiz Pulido</center>\n",
        "<center>liortiz@unal.edu.co</center></h3>"
      ]
    },
    {
      "cell_type": "markdown",
      "metadata": {
        "id": "LWcqkqftCjha"
      },
      "source": [
        "# Ejercicio 1\n",
        "Learning from data, Exercice 2.2\n",
        "\n",
        "(a) Verifique la cota del teorema 2.4 en los tres casos del ejemplo 2.2: \n",
        "\n",
        "   (i) Rayos positivos: $\\mathcal{H}$ consta de todas las hipótesis en una dimensión de la forma $h(x)=sign(x - a)$.\n",
        "\n",
        "$$N+1=m_{\\mathcal{H}}(N) \\leq \\sum^{k-1}_{i=0}{N \\choose i}=\\sum^{1}_{i=0}{N \\choose i}=1+N$$\n",
        "\n"
      ]
    },
    {
      "cell_type": "markdown",
      "metadata": {
        "id": "nCE0ofmfU3IQ"
      },
      "source": [
        "(ii) Intervalos positivos: $\\mathcal{H}$ consta de todas las hipótesis en una dimensión que son positivas dentro de algún intervalo y negativas en otras partes.  \n",
        "\n",
        "$$\\frac{1}{2}N^2+\\frac{1}{2}N+1=m_{\\mathcal{H}}(N) \\leq \\sum^{k-1}_{i=0}{N \\choose i}=\\sum^{2}_{i=0}{N \\choose i}=1+N+\\frac{N(N-1)}{2}=1+\\frac{1}{2}N+\\frac{1}{2}N^2$$\n"
      ]
    },
    {
      "cell_type": "markdown",
      "metadata": {
        "id": "iS9MmoslU5yG"
      },
      "source": [
        "(iii) Conjuntos convexos: $\\mathcal{H}$ consta de todas las hipótesis en dos dimensiones que son positivas dentro de algún conjunto convexo y negativas en otras partes.  (Nota: puede usar los puntos de ruptura que encontró en el ejercicio 2.1.) \n",
        "\n",
        "$$2^N=m_{\\mathcal{H}}(N) \\leq \\sum^{k-1}_{i=0}{N \\choose i}\\leq\\sum^{N}_{i=0}{N \\choose i}=2^N$$"
      ]
    },
    {
      "cell_type": "markdown",
      "metadata": {
        "id": "RB_zyQI5Tg2d"
      },
      "source": [
        "(b) ¿Existe un conjunto de hipótesis para el cual $m_{\\mathcal{H}}(N)=N+2^{\\lfloor N/2 \\rfloor}$ (donde $\\lfloor N/2 \\rfloor$ es el entero más grande $\\leq N/$2)?\n",
        "\n",
        "Si  $m_{\\mathcal{H}} (N) = N+2^{\\lfloor N/2 \\rfloor}$, entonces el punto de ruptura $k=3$. De acuerdo con el teorema de la cota 2.4, tenemos para todo $N$, $m_{\\mathcal{H}}(N)=N+2^{\\lfloor N/2 \\rfloor}\\leq \\sum^{2}_{i=0}{N\\choose i}=1+\\frac{1}{2}N+\\frac{1}{2}N^2$. Pero cuando $N=15$, $m_{\\mathcal{H}}(15)=143\\leq \\sum^{2}_{i=0}{15\\choose i}=121$ es falso entonces no existe. "
      ]
    },
    {
      "cell_type": "markdown",
      "metadata": {
        "id": "5CfB1V1kC5SP"
      },
      "source": [
        "# Ejercicio 2\n",
        "Learning from data, Exercice 2.5\n",
        "\n",
        "Suponga que tenemos un modelo de aprendizaje simple cuya función de crecimiento es $m_{\\mathcal{H}}(N)=N+1$, por lo tanto $d_{vc} = 1$. Use el límite de VC (2.12) para estimar la probabilidad de que $E_{out}$ esté dentro de 0.1 de $E_{in}$ dado 100  ejemplos de formación.  [Sugerencia: la estimación será ridícula].\n",
        "\n"
      ]
    },
    {
      "cell_type": "markdown",
      "metadata": {
        "id": "HbDqLK-7cS-K"
      },
      "source": [
        " $$\\begin{align*}\n",
        "d&=\\sqrt{\\frac{8}{N}\\ln{\\frac{4m_\\mathcal{H}(2N)}{\\delta}}}\\\\\n",
        "d^2&=\\frac{8}{N}(\\ln{4m_\\mathcal{H}(2N)}-\\ln{\\delta})\\\\\n",
        "\\ln{\\delta}&=\\ln{4m_\\mathcal{H}(2N)}-\\frac{N}{8}d^2\\\\\n",
        "\\delta&=4m_\\mathcal{H}(2N)e^{-\\frac{N}{8}d^2}\\\\\n",
        "\\end{align*}$$"
      ]
    },
    {
      "cell_type": "code",
      "metadata": {
        "colab": {
          "base_uri": "https://localhost:8080/"
        },
        "id": "aQa6KI0XBChy",
        "outputId": "13c46424-7134-4f5b-a775-cee7490dbb6d"
      },
      "source": [
        "import numpy as np\n",
        "N = 100\n",
        "d = 0.1\n",
        "m_H = 2*N + 1\n",
        "print('delta =', 4*m_H*np.exp(-N*d**2/8))"
      ],
      "execution_count": 1,
      "outputs": [
        {
          "output_type": "stream",
          "text": [
            "delta = 709.5275096780147\n"
          ],
          "name": "stdout"
        }
      ]
    },
    {
      "cell_type": "markdown",
      "metadata": {
        "id": "3amu9r-HC7uA"
      },
      "source": [
        "# Ejercicio 3\n",
        "Learning from data, Exercice 2.6\n",
        "\n",
        "Un conjunto de datos tiene 600 ejemplos.  Para probar adecuadamente el desempeño de la hipótesis final, usted aparta un subconjunto seleccionado al azar de 200 ejemplos que nunca se usan en la fase de entrenamiento;  estos forman un conjunto de prueba.  Utiliza un modelo de aprendizaje con 1.000 hipótesis y selecciona la hipótesis final $g$ basada en los 400 ejemplos de formación.  Deseamos estimar $E_{out}(g)$.  Tenemos acceso a dos estimaciones: $E_{in}(g)$, el error en la muestra en los 400 ejemplos de entrenamiento;  y, $E_{test}(g)$, el error de prueba en los 200 ejemplos de prueba que se dejaron de lado \n",
        "\n",
        "(a) Usando una tolerancia de error del 5% ($\\delta = 0.05$), ¿qué estimación tiene la 'barra de error' más alta?  "
      ]
    },
    {
      "cell_type": "code",
      "metadata": {
        "colab": {
          "base_uri": "https://localhost:8080/"
        },
        "id": "jD0lFujQA9u6",
        "outputId": "f0f9fce5-9454-4986-bbc4-b8fae3b9cfc8"
      },
      "source": [
        "delta = 0.05\n",
        "\n",
        "N = 200\n",
        "print('error prueba: ', np.sqrt((1/(2*N))*np.log(2/delta)))\n",
        "\n",
        "M = 1000\n",
        "N = 400\n",
        "print('error muestra: ', np.sqrt((1/(2*N))*np.log(2*M/delta)))"
      ],
      "execution_count": 2,
      "outputs": [
        {
          "output_type": "stream",
          "text": [
            "error prueba:  0.09603227913199208\n",
            "error muestra:  0.11509037065006825\n"
          ],
          "name": "stdout"
        }
      ]
    },
    {
      "cell_type": "markdown",
      "metadata": {
        "id": "_CbEi9SYEyhg"
      },
      "source": [
        "Teniendo en cuenta el límite de generalización $E_{out}(g) \\le E_{in}(g) + \\sqrt{\\frac{1}{2N}\\ln{\\frac{2M}{\\delta}}}$, la barra de error del error en la muestra es más alta que la barra de error del error de prueba."
      ]
    },
    {
      "cell_type": "markdown",
      "metadata": {
        "id": "G6_fr3-2We7x"
      },
      "source": [
        "(b) ¿Hay alguna razón por la que no debería reservar aún más ejemplos para probar?\n",
        "\n",
        "Tendríamos menos muestras para el entrenamiento causando que se construya una mala hipótesis a comparación si tenemos más muestras."
      ]
    },
    {
      "cell_type": "markdown",
      "metadata": {
        "id": "_thfVlTkC8F-"
      },
      "source": [
        "# Ejercicio 4\n",
        "Learning from data, Problem 2.1\n",
        "\n",
        "En la ecuación (2.1), establezca $\\delta= 0.03$ y sea $$\\epsilon(M,N, \\delta)=\\sqrt{\\frac{1}{2N}\\ln{\\frac{2M}{\\delta}}}$$\n",
        "\n",
        "(a) Para $M = 1$, ¿cuántos ejemplos necesitamos para hacer $\\epsilon\\leq0.05$?  "
      ]
    },
    {
      "cell_type": "markdown",
      "metadata": {
        "id": "pXjguHBMIJXb"
      },
      "source": [
        "$$\\begin{align*}\n",
        "\\epsilon(M,N, \\delta)=\\sqrt{\\frac{1}{2N}\\ln{\\frac{2M}{\\delta}}}&\\leq0.05\\\\\n",
        "\\frac{1}{2N}\\ln{\\frac{2M}{\\delta}}&\\leq0.0025\\\\\n",
        "\\ln{\\frac{2M}{\\delta}}&\\leq0.005N\\\\\n",
        "\\frac{1}{0.005}\\ln{\\frac{2M}{\\delta}}&\\leq N\n",
        "\\end{align*}$$\n"
      ]
    },
    {
      "cell_type": "code",
      "metadata": {
        "colab": {
          "base_uri": "https://localhost:8080/"
        },
        "id": "MBevuF7TIIUM",
        "outputId": "d0f0096a-b238-4585-e669-65d15df9e477"
      },
      "source": [
        "print(\"N:\",np.ceil((1/(0.005))*np.log(2*1/0.03)))"
      ],
      "execution_count": 3,
      "outputs": [
        {
          "output_type": "stream",
          "text": [
            "N: 840.0\n"
          ],
          "name": "stdout"
        }
      ]
    },
    {
      "cell_type": "markdown",
      "metadata": {
        "id": "nY9DJjYcYHwr"
      },
      "source": [
        "(b) Para $M = 100$, ¿cuántos ejemplos necesitamos para hacer $\\epsilon\\leq0.05$?  "
      ]
    },
    {
      "cell_type": "code",
      "metadata": {
        "colab": {
          "base_uri": "https://localhost:8080/"
        },
        "id": "QBD1sCtZKsxv",
        "outputId": "9a425098-a67d-4468-a11d-d0875c05ef8b"
      },
      "source": [
        "print(\"N:\",np.ceil((1/(0.005))*np.log(2*100/0.03)))"
      ],
      "execution_count": 4,
      "outputs": [
        {
          "output_type": "stream",
          "text": [
            "N: 1761.0\n"
          ],
          "name": "stdout"
        }
      ]
    },
    {
      "cell_type": "markdown",
      "metadata": {
        "id": "8SbGa9FRYJuT"
      },
      "source": [
        "(c) Para $M = 10,000$, ¿cuántos ejemplos necesitamos para hacer $\\epsilon\\leq0.05$?  "
      ]
    },
    {
      "cell_type": "code",
      "metadata": {
        "colab": {
          "base_uri": "https://localhost:8080/"
        },
        "id": "dgW-5E6qKuVW",
        "outputId": "474817cd-78c3-4e46-b97b-958ddb9216f6"
      },
      "source": [
        "print(\"N:\",np.ceil((1/(0.005))*np.log(2*10000/0.03)))"
      ],
      "execution_count": 5,
      "outputs": [
        {
          "output_type": "stream",
          "text": [
            "N: 2683.0\n"
          ],
          "name": "stdout"
        }
      ]
    },
    {
      "cell_type": "markdown",
      "metadata": {
        "id": "7_tIKI61C6Hl"
      },
      "source": [
        "# Ejercicio 5\n",
        "Learning from data, Problem 2.16\n",
        "\n",
        "En este problema, consideraremos $\\mathcal{X} = \\mathbb{R}$. Es decir, x=$x$ es una variable unidimensional.  Para un conjunto de hipótesis $$\\mathcal{H} = \\Bigg\\{h_c\\Bigg|h_c(x) = sign\\left(\\sum^D_{i=0}c_ix^i\\right)\\Bigg\\},$$ demuestre que la dimensión VC de $\\mathcal{H}$ es exactamente $(D + 1)$ mostrando que \n",
        "\n",
        "(a) Hay $(D + 1)$ puntos que están destrozados por $\\mathcal{H}$ "
      ]
    },
    {
      "cell_type": "markdown",
      "metadata": {
        "id": "T2Kc_FzJ5gUr"
      },
      "source": [
        "Tomemos un conjunto $N=d+1$ en $\\mathbb{R}$, $x_1,x_2,...,x_{d+1}$ para formar la matríz $d+1\\times d+1$: $$X=\\begin{bmatrix}1&x_1&...&x_{1}^{d}\\\\1&x_2&...&x_{2}^{d}\\\\\\vdots&\\vdots&\\ddots&\\vdots\\\\1&x_{d+1}&...&x_{d+1}^{d}\\end{bmatrix}$$\n",
        "Hay que tener en cuenta que $h_c$ está dado por $c$ así que queremos ver que existe $c$ tal que para un $Y$ fijo (donde cada entrada es $\\pm1$) se tiene $Xc=Y$, y existe porque $c=X^{-1}Y$ al ser las filas de $X$ linealmente independientes."
      ]
    },
    {
      "cell_type": "markdown",
      "metadata": {
        "id": "yaVrnN1yaCb5"
      },
      "source": [
        "(b) No hay puntos $(D + 2)$ que sean destrozados por $\\mathcal{H}$.\n",
        "\n",
        "Tomemos un conjunto de $N=d+2$ en $\\mathbb{R}$, $x_1,x_2,...,x_{d+2}$, para formar la matriz $d+2\\times d+1$:\n",
        "$$X=\\begin{bmatrix}1&x_1&...&x_{1}^{d}\\\\1&x_2&...&x_{2}^{d}\\\\\\vdots&\\vdots&\\ddots&\\vdots\\\\1&x_{d+1}&...&x_{d+1}^{d}\\\\1&x_{d+2}&...&x_{d+2}^{d}\\end{bmatrix}$$\n",
        "Si tomamos $d+1$ filas de $X$ es fácil ver que son linealmente independientes entonces generan una base de $\\mathbb{R}^{d+1}$ luego la fila que no tomamos de $X$ tiene que ser es una combinación lineal de las $d+1$ filas que tomamos pero la única manera de que pase es que sea igual a uno de ellos por como se construye estas filas. \n",
        "\n",
        "\n",
        "De lo anterior, vemos que la dimensión VC de $\\mathcal{H}$ es exactamente $D+1$."
      ]
    },
    {
      "cell_type": "markdown",
      "metadata": {
        "id": "GJKpFKqUYq5T"
      },
      "source": [
        "# Ejercicio 6\n",
        "Learning from data, Problem 2.20\n",
        "\n",
        "Hay una serie de límites en el error de generalización $\\epsilon$, todos con probabilidad de al menos $1-\\delta$. \n",
        "\n",
        "(a) Límite de VC original: $$\\epsilon\\leq\\sqrt{\\frac{8}{N}\\ln{\\frac{4m_{\\mathcal{H}}(2N)}{\\delta}}}$$ \n",
        "\n",
        "(b) Límite de penalización de Rademacher: $$\\epsilon\\leq\\sqrt{\\frac{2\\ln{(2Nm_{\\mathcal{H}}(N))}}{N}}+\\sqrt{\\frac{2}{N}\\ln{\\frac{1}{\\delta}}}+\\frac{1}{N}$$  \n",
        "\n",
        "(c) Parrondo y Van den Broek: $$\\epsilon\\leq\\sqrt{\\frac{1}{N}\\left(2\\epsilon+\\ln{\\frac{6m_{\\mathcal{H}}(2N)}{\\delta}}\\right)}$$ \n",
        "\n",
        "\n",
        "(d) Devroye: $$\\epsilon\\leq\\sqrt{\\frac{1}{2N}\\left(4\\epsilon(1+\\epsilon)\\ln{\\frac{4m_{\\mathcal{H}}(N^2)}{\\delta}}\\right)}$$ \n",
        "\n",
        "Tenga en cuenta que (c) y (d) son límites implícitos en $\\epsilon$.  Fije $d_{vc}=50$ y $\\delta= 0.05$ y grafique estos límites como una función de $N$. ¿Cuál es mejor?"
      ]
    },
    {
      "cell_type": "markdown",
      "metadata": {
        "id": "W953KX0ZgGhN"
      },
      "source": [
        "Primero despejamos $\\epsilon$ en (c) y (d):\n",
        "\n",
        "(c)\n",
        "\\begin{align*}\n",
        "\\epsilon&\\leq\\sqrt{\\frac{1}{N}\\left(2\\epsilon+\\ln{\\frac{6m_{\\mathcal{H}}(2N)}{\\delta}}\\right)}\\\\\n",
        "\\epsilon &\\leq \\frac{1}{N} + \\sqrt{\\frac{1}{N^2} + \\frac{1}{N}\\ln\\frac{6m_{\\mathcal{H}}(2N)}{\\delta}}\n",
        "\\end{align*}\n",
        "(d) \n",
        "\\begin{align*}\n",
        "\\epsilon&\\leq\\sqrt{\\frac{1}{2N}\\left(4\\epsilon(1+\\epsilon)\\ln{\\frac{4m_{\\mathcal{H}}(N^2)}{\\delta}}\\right)}\\\\\n",
        "\\epsilon &\\leq \\frac{1}{N-2} + \\sqrt{\\frac{1}{(N-2)^2} + \\frac{1}{2(N-2)}\\ln\\frac{4m_{\\mathcal{H}}(N^2)}{\\delta}}\\\\\n",
        "\\end{align*}"
      ]
    },
    {
      "cell_type": "code",
      "metadata": {
        "id": "h_OoqtnXszSI"
      },
      "source": [
        "import numpy as np\n",
        "import matplotlib.pyplot as plt\n",
        "#Parámetros\n",
        "d_vc = 50.0\n",
        "delta = 0.05\n",
        "def m_H(N):\n",
        "  return N**50+1\n",
        "\n",
        "#Límites\n",
        "def vc(N):\n",
        "    return np.sqrt((8/N)*np.log(4*m_H(2*N)/delta))\n",
        "\n",
        "def rademacher(N):\n",
        "    return np.sqrt(2*np.log(2*N*m_H(N))/N) + np.sqrt((2/N)*np.log(1/delta)) + 1/N\n",
        "\n",
        "def pvdb(N):\n",
        "    return 1/N + np.sqrt(1/N**2 + (1/N)*np.log(6*m_H(2*N)/delta))\n",
        "\n",
        "def devroye(N):\n",
        "    return 1/(N-2) + np.sqrt(1/(N-2)**2 + 1/(2*(N-2))*np.log(4*m_H(N**2)/delta))"
      ],
      "execution_count": 6,
      "outputs": []
    },
    {
      "cell_type": "code",
      "metadata": {
        "colab": {
          "base_uri": "https://localhost:8080/",
          "height": 282
        },
        "id": "YI9hpMZwyMD2",
        "outputId": "7f21f9cc-f47a-4694-9284-bd02115d361f"
      },
      "source": [
        "x = np.arange(3, 1200)*1.0\n",
        "y1,y2,y3,y4= [],[],[],[]\n",
        "for N in x:\n",
        "    y1.append(vc(N))\n",
        "    y2.append(rademacher(N))\n",
        "    y3.append(pvdb(N))\n",
        "    y4.append(devroye(N))\n",
        "\n",
        "plt.plot(x, y1, label='Límite de VC original')\n",
        "plt.plot(x, y2, label='Límite de penalización de Rademacher')\n",
        "plt.plot(x, y3, label='Parrondo y Van den Broek')\n",
        "plt.plot(x, y4, label='Devroye')\n",
        "plt.legend()\n",
        "plt.show()"
      ],
      "execution_count": 7,
      "outputs": [
        {
          "output_type": "stream",
          "text": [
            "/usr/local/lib/python3.7/dist-packages/ipykernel_launcher.py:20: RuntimeWarning: overflow encountered in double_scalars\n"
          ],
          "name": "stderr"
        },
        {
          "output_type": "display_data",
          "data": {
            "image/png": "[encoded data removed]",
            "text/plain": [
              "<Figure size 432x288 with 1 Axes>"
            ]
          },
          "metadata": {
            "tags": [],
            "needs_background": "light"
          }
        }
      ]
    },
    {
      "cell_type": "markdown",
      "metadata": {
        "id": "GDSE-g3dzy3b"
      },
      "source": [
        "Es mejor Devroye porque es menor, aunque la Parrondo y Van den Broek se acerca mucho que casi no se diferencian."
      ]
    }
  ]
}